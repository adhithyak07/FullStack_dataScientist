{
 "cells": [
  {
   "cell_type": "code",
   "execution_count": 1,
   "id": "9b5da862",
   "metadata": {},
   "outputs": [
    {
     "name": "stdout",
     "output_type": "stream",
     "text": [
      "Compound Interest = 512.50\n",
      "Total Amount = 5512.50\n"
     ]
    }
   ],
   "source": [
    "interest_type=input()\n",
    "rate=int(input())\n",
    "principal=int(input())\n",
    "time=int(input())\n",
    "rate = rate / 100 \n",
    "\n",
    "if interest_type.lower() == \"simple\":\n",
    "        \n",
    "        interest = principal * rate * time\n",
    "        total = principal + interest\n",
    "        print(f\"Simple Interest = {interest:.2f}\")\n",
    "        print(f\"Total Amount = {total:.2f}\")\n",
    "\n",
    "elif interest_type.lower() == \"compound\":\n",
    " \n",
    "    total = principal * ((1 + rate) ** time)\n",
    "    interest = total - principal\n",
    "    print(f\"Compound Interest = {interest:.2f}\")\n",
    "    print(f\"Total Amount = {total:.2f}\")"
   ]
  }
 ],
 "metadata": {
  "kernelspec": {
   "display_name": "Python 3",
   "language": "python",
   "name": "python3"
  },
  "language_info": {
   "codemirror_mode": {
    "name": "ipython",
    "version": 3
   },
   "file_extension": ".py",
   "mimetype": "text/x-python",
   "name": "python",
   "nbconvert_exporter": "python",
   "pygments_lexer": "ipython3",
   "version": "3.11.0"
  }
 },
 "nbformat": 4,
 "nbformat_minor": 5
}
