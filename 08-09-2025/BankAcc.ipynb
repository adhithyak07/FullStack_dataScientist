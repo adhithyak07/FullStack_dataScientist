{
 "cells": [
  {
   "cell_type": "code",
   "execution_count": null,
   "id": "5e50d672",
   "metadata": {},
   "outputs": [],
   "source": [
    "class BankAcc:\n",
    "    def __init__(self, balance=0, owner=\"Unknown\"):\n",
    "        self.balance = balance\n",
    "        self.owner = owner\n",
    "    \n",
    "    def deposit(self, amount):\n",
    "        self.balance += amount\n",
    "    \n",
    "    def withdraw(self, amount):\n",
    "        if amount <= self.balance:\n",
    "            self.balance -= amount\n",
    "        else:\n",
    "            print(\"Insufficient funds\")\n",
    "    \n",
    "    def get_balance(self):\n",
    "        return f\"Balance: {self.balance}\""
   ]
  }
 ],
 "metadata": {
  "language_info": {
   "name": "python"
  }
 },
 "nbformat": 4,
 "nbformat_minor": 5
}
