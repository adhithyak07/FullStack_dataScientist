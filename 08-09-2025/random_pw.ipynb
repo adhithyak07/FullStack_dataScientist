{
 "cells": [
  {
   "cell_type": "code",
   "execution_count": 2,
   "id": "89e39811",
   "metadata": {},
   "outputs": [
    {
     "name": "stdout",
     "output_type": "stream",
     "text": [
      "Generated Password: V4f@m*\n"
     ]
    }
   ],
   "source": [
    "import random\n",
    "import string\n",
    "\n",
    "def generate_password(length=6):\n",
    "    characters = string.ascii_letters + string.digits + string.punctuation\n",
    "    password=\"\"\n",
    "    for _ in range(length):\n",
    "        password += random.choice(characters) \n",
    "    return password\n",
    "\n",
    "length = int(input(\"Enter password length: \"))\n",
    "print(\"Generated Password:\", generate_password(length))\n"
   ]
  }
 ],
 "metadata": {
  "kernelspec": {
   "display_name": "Python 3",
   "language": "python",
   "name": "python3"
  },
  "language_info": {
   "codemirror_mode": {
    "name": "ipython",
    "version": 3
   },
   "file_extension": ".py",
   "mimetype": "text/x-python",
   "name": "python",
   "nbconvert_exporter": "python",
   "pygments_lexer": "ipython3",
   "version": "3.11.0"
  }
 },
 "nbformat": 4,
 "nbformat_minor": 5
}
