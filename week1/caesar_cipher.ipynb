{
 "cells": [
  {
   "cell_type": "code",
   "execution_count": 3,
   "id": "9a64bd4d",
   "metadata": {},
   "outputs": [
    {
     "name": "stdout",
     "output_type": "stream",
     "text": [
      "khoor\n"
     ]
    }
   ],
   "source": [
    "message=input()\n",
    "shift=int(input())\n",
    "encrypted = \"\"\n",
    "for char in message:\n",
    "        if char.isalpha():\n",
    "            if char.isupper():\n",
    "                encrypted += chr((ord(char) - 65 + shift) % 26 + 65)\n",
    "            else:\n",
    "                encrypted += chr((ord(char) - 97 + shift) % 26 + 97)\n",
    "        else:\n",
    "            encrypted += char\n",
    "print(encrypted)"
   ]
  }
 ],
 "metadata": {
  "kernelspec": {
   "display_name": "Python 3",
   "language": "python",
   "name": "python3"
  },
  "language_info": {
   "codemirror_mode": {
    "name": "ipython",
    "version": 3
   },
   "file_extension": ".py",
   "mimetype": "text/x-python",
   "name": "python",
   "nbconvert_exporter": "python",
   "pygments_lexer": "ipython3",
   "version": "3.11.0"
  }
 },
 "nbformat": 4,
 "nbformat_minor": 5
}
