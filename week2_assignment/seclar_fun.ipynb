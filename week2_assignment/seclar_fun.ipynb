{
 "cells": [
  {
   "cell_type": "code",
   "execution_count": 1,
   "id": "063daad6",
   "metadata": {},
   "outputs": [
    {
     "name": "stdout",
     "output_type": "stream",
     "text": [
      "10\n",
      "None\n"
     ]
    }
   ],
   "source": [
    "def seclar(l):\n",
    "    max1 = max2 = float('-inf')\n",
    "    for n in l:\n",
    "        if n > max1:\n",
    "            max2 = max1\n",
    "            max1 = n\n",
    "        elif n > max2 and n != max1:\n",
    "            max2 = n\n",
    "    return max2 if max2 != float('-inf') else None  \n",
    "\n",
    "\n",
    "print(seclar([10, 5, 20, 8]))   \n",
    "print(seclar([5]))              \n"
   ]
  }
 ],
 "metadata": {
  "kernelspec": {
   "display_name": "Python 3",
   "language": "python",
   "name": "python3"
  },
  "language_info": {
   "codemirror_mode": {
    "name": "ipython",
    "version": 3
   },
   "file_extension": ".py",
   "mimetype": "text/x-python",
   "name": "python",
   "nbconvert_exporter": "python",
   "pygments_lexer": "ipython3",
   "version": "3.11.0"
  }
 },
 "nbformat": 4,
 "nbformat_minor": 5
}
