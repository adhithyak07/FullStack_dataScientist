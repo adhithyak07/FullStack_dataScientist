{
 "cells": [
  {
   "cell_type": "code",
   "execution_count": 1,
   "id": "cca2cdda",
   "metadata": {},
   "outputs": [
    {
     "name": "stdout",
     "output_type": "stream",
     "text": [
      "Mean = 87.86\n",
      "Median = 90\n",
      "Variance = 73.81\n"
     ]
    }
   ],
   "source": [
    "import statistics\n",
    "\n",
    "def exam_score_analysis(scores):\n",
    "    mean_val = round(statistics.mean(scores), 2)\n",
    "    median_val = statistics.median(scores)\n",
    "    variance_val = round(statistics.variance(scores), 2)\n",
    "\n",
    "    print(\"Mean =\", mean_val)\n",
    "    print(\"Median =\", median_val)\n",
    "    print(\"Variance =\", variance_val)\n",
    "\n",
    "Scores = [75, 80, 90, 100, 85, 90, 95]\n",
    "exam_score_analysis(Scores)\n"
   ]
  }
 ],
 "metadata": {
  "kernelspec": {
   "display_name": "Python 3",
   "language": "python",
   "name": "python3"
  },
  "language_info": {
   "codemirror_mode": {
    "name": "ipython",
    "version": 3
   },
   "file_extension": ".py",
   "mimetype": "text/x-python",
   "name": "python",
   "nbconvert_exporter": "python",
   "pygments_lexer": "ipython3",
   "version": "3.11.0"
  }
 },
 "nbformat": 4,
 "nbformat_minor": 5
}
