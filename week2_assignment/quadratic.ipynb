{
 "cells": [
  {
   "cell_type": "code",
   "execution_count": 1,
   "id": "29693b74",
   "metadata": {},
   "outputs": [
    {
     "name": "stdout",
     "output_type": "stream",
     "text": [
      "Roots are: 2.0 and 1.0\n"
     ]
    }
   ],
   "source": [
    "import math\n",
    "\n",
    "def quadratic_solver(a, b, c):\n",
    "    discriminant = b**2 - 4*a*c\n",
    "\n",
    "    if discriminant < 0:\n",
    "        return \"No real roots\"\n",
    "    elif discriminant == 0:\n",
    "        root = -b / (2*a)\n",
    "        return f\"Root is: {root}\"\n",
    "    else:\n",
    "        root1 = (-b + math.sqrt(discriminant)) / (2*a)\n",
    "        root2 = (-b - math.sqrt(discriminant)) / (2*a)\n",
    "        return f\"Roots are: {root1} and {root2}\"\n",
    "\n",
    "a, b, c = 1, -3, 2\n",
    "print(quadratic_solver(a, b, c))\n"
   ]
  },
  {
   "cell_type": "code",
   "execution_count": null,
   "id": "a748cde4",
   "metadata": {},
   "outputs": [],
   "source": []
  }
 ],
 "metadata": {
  "kernelspec": {
   "display_name": "Python 3",
   "language": "python",
   "name": "python3"
  },
  "language_info": {
   "codemirror_mode": {
    "name": "ipython",
    "version": 3
   },
   "file_extension": ".py",
   "mimetype": "text/x-python",
   "name": "python",
   "nbconvert_exporter": "python",
   "pygments_lexer": "ipython3",
   "version": "3.11.0"
  }
 },
 "nbformat": 4,
 "nbformat_minor": 5
}
