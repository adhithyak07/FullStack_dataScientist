{
 "cells": [
  {
   "cell_type": "code",
   "execution_count": 1,
   "id": "4a4e9451",
   "metadata": {},
   "outputs": [
    {
     "name": "stdout",
     "output_type": "stream",
     "text": [
      "Grade: A\n"
     ]
    }
   ],
   "source": [
    "def calculate_grade(marks):\n",
    "    avg = sum(marks) / len(marks)\n",
    "    \n",
    "    if avg >= 90:\n",
    "        grade = \"A+\"\n",
    "    elif avg >= 80:\n",
    "        grade = \"A\"\n",
    "    elif avg >= 70:\n",
    "        grade = \"B\"\n",
    "    elif avg >= 60:\n",
    "        grade = \"C\"\n",
    "    elif avg >= 50:\n",
    "        grade = \"D\"\n",
    "    else:\n",
    "        grade = \"F\"\n",
    "    \n",
    "    return f\"Grade: {grade}\"\n",
    "\n",
    "\n",
    "marks = [85, 90, 78]\n",
    "print(calculate_grade(marks))\n"
   ]
  }
 ],
 "metadata": {
  "kernelspec": {
   "display_name": "Python 3",
   "language": "python",
   "name": "python3"
  },
  "language_info": {
   "codemirror_mode": {
    "name": "ipython",
    "version": 3
   },
   "file_extension": ".py",
   "mimetype": "text/x-python",
   "name": "python",
   "nbconvert_exporter": "python",
   "pygments_lexer": "ipython3",
   "version": "3.11.0"
  }
 },
 "nbformat": 4,
 "nbformat_minor": 5
}
