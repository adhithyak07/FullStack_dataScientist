{
 "cells": [
  {
   "cell_type": "code",
   "execution_count": 4,
   "id": "6a7d5c66",
   "metadata": {},
   "outputs": [
    {
     "name": "stdout",
     "output_type": "stream",
     "text": [
      "Usage: python add.py num1 num2 num3\n"
     ]
    }
   ],
   "source": [
    "import sys\n",
    "\n",
    "def sum_from_command_line():\n",
    "    if len(sys.argv) != 4:\n",
    "        print(\"Usage: python add.py num1 num2 num3\")\n",
    "        return\n",
    "    \n",
    "  \n",
    "    num1 = int(sys.argv[1])\n",
    "    num2 = int(sys.argv[2])\n",
    "    num3 = int(sys.argv[3])\n",
    "    \n",
    "    total = num1 + num2 + num3\n",
    "    print(\"Sum =\", total)\n",
    "\n",
    "\n",
    "\n",
    "sum_from_command_line()\n"
   ]
  }
 ],
 "metadata": {
  "kernelspec": {
   "display_name": "Python 3",
   "language": "python",
   "name": "python3"
  },
  "language_info": {
   "codemirror_mode": {
    "name": "ipython",
    "version": 3
   },
   "file_extension": ".py",
   "mimetype": "text/x-python",
   "name": "python",
   "nbconvert_exporter": "python",
   "pygments_lexer": "ipython3",
   "version": "3.11.0"
  }
 },
 "nbformat": 4,
 "nbformat_minor": 5
}
