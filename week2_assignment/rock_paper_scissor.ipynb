{
 "cells": [
  {
   "cell_type": "code",
   "execution_count": 1,
   "id": "8f5e66ac",
   "metadata": {},
   "outputs": [
    {
     "name": "stdout",
     "output_type": "stream",
     "text": [
      "You chose Rock, Computer chose Paper\n",
      "You Lose!\n"
     ]
    }
   ],
   "source": [
    "import random\n",
    "\n",
    "def rock_paper_scissors():\n",
    "    choices = [\"Rock\", \"Paper\", \"Scissors\"]\n",
    "    user = input(\"Enter Rock, Paper, or Scissors: \").capitalize()\n",
    "    computer = random.choice(choices)\n",
    "\n",
    "    print(f\"You chose {user}, Computer chose {computer}\")\n",
    "\n",
    "    if user == computer:\n",
    "        print(\"It's a Tie!\")\n",
    "    elif (user == \"Rock\" and computer == \"Scissors\") or \\\n",
    "         (user == \"Paper\" and computer == \"Rock\") or \\\n",
    "         (user == \"Scissors\" and computer == \"Paper\"):\n",
    "        print(\"You Win!\")\n",
    "    else:\n",
    "        print(\"You Lose!\")\n",
    "\n",
    "rock_paper_scissors()\n"
   ]
  }
 ],
 "metadata": {
  "kernelspec": {
   "display_name": "Python 3",
   "language": "python",
   "name": "python3"
  },
  "language_info": {
   "codemirror_mode": {
    "name": "ipython",
    "version": 3
   },
   "file_extension": ".py",
   "mimetype": "text/x-python",
   "name": "python",
   "nbconvert_exporter": "python",
   "pygments_lexer": "ipython3",
   "version": "3.11.0"
  }
 },
 "nbformat": 4,
 "nbformat_minor": 5
}
