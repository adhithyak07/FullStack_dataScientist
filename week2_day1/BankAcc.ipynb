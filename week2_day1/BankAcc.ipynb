{
 "cells": [
  {
   "cell_type": "code",
   "execution_count": 1,
   "id": "5e50d672",
   "metadata": {},
   "outputs": [
    {
     "name": "stdout",
     "output_type": "stream",
     "text": [
      "Account created for adhithya with balance 10000.0\n",
      "\n",
      "Choose operation: 1-Deposit 2-Withdraw 3-Check Balance 4-Exit\n",
      "Deposited 3000.0. New balance: 13000.0\n",
      "\n",
      "Choose operation: 1-Deposit 2-Withdraw 3-Check Balance 4-Exit\n",
      "Balance: 13000.0\n",
      "\n",
      "Choose operation: 1-Deposit 2-Withdraw 3-Check Balance 4-Exit\n",
      "Exiting. Thank you!\n"
     ]
    }
   ],
   "source": [
    "class BankAccount:\n",
    "    def __init__(self, balance=0, owner=\"Unknown\"):\n",
    "        self.balance = balance\n",
    "        self.owner = owner\n",
    "    \n",
    "    def deposit(self, amount):\n",
    "        self.balance += amount\n",
    "        print(f\"Deposited {amount}. New balance: {self.balance}\")\n",
    "    \n",
    "    def withdraw(self, amount):\n",
    "        if amount <= self.balance:\n",
    "            self.balance -= amount\n",
    "            print(f\"Withdrew {amount}. New balance: {self.balance}\")\n",
    "        else:\n",
    "            print(\"Insufficient funds\")\n",
    "    \n",
    "    def get_balance(self):\n",
    "        return f\"Balance: {self.balance}\"\n",
    "\n",
    "owner_name = input(\"Enter account owner's name: \")\n",
    "initial_balance = float(input(\"Enter initial balance: \"))\n",
    "\n",
    "account = BankAccount(initial_balance, owner_name)\n",
    "print(f\"Account created for {account.owner} with balance {account.balance}\")\n",
    "\n",
    "while True:\n",
    "    print(\"\\nChoose operation: 1-Deposit 2-Withdraw 3-Check Balance 4-Exit\")\n",
    "    choice = input(\"Enter choice: \")\n",
    "    \n",
    "    if choice == \"1\":\n",
    "        amt = float(input(\"Enter deposit amount: \"))\n",
    "        account.deposit(amt)\n",
    "    elif choice == \"2\":\n",
    "        amt = float(input(\"Enter withdrawal amount: \"))\n",
    "        account.withdraw(amt)\n",
    "    elif choice == \"3\":\n",
    "        print(account.get_balance())\n",
    "    elif choice == \"4\":\n",
    "        print(\"Exiting. Thank you!\")\n",
    "        break\n",
    "    else:\n",
    "        print(\"Invalid choice. Try again.\")\n"
   ]
  }
 ],
 "metadata": {
  "kernelspec": {
   "display_name": "Python 3",
   "language": "python",
   "name": "python3"
  },
  "language_info": {
   "codemirror_mode": {
    "name": "ipython",
    "version": 3
   },
   "file_extension": ".py",
   "mimetype": "text/x-python",
   "name": "python",
   "nbconvert_exporter": "python",
   "pygments_lexer": "ipython3",
   "version": "3.11.0"
  }
 },
 "nbformat": 4,
 "nbformat_minor": 5
}
