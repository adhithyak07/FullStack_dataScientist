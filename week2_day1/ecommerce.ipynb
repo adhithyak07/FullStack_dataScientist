{
 "cells": [
  {
   "cell_type": "code",
   "execution_count": 1,
   "id": "dedc0178",
   "metadata": {},
   "outputs": [
    {
     "name": "stdout",
     "output_type": "stream",
     "text": [
      "Total = 2000\n",
      "Shirt: 500\n",
      "Shoes: 1500\n",
      "Total = 1500\n"
     ]
    }
   ],
   "source": [
    "class Order:\n",
    "    def __init__(self):\n",
    "        self.items = {}\n",
    "    \n",
    "    def add(self, item, price):\n",
    "        self.items[item] = price\n",
    "    \n",
    "    def remove(self, item):\n",
    "        if item in self.items:\n",
    "            del self.items[item]\n",
    "        else:\n",
    "            print(f\"{item} not found in order.\")\n",
    "    \n",
    "    def calculate_total(self):\n",
    "        return f\"Total = {sum(self.items.values())}\"\n",
    "    \n",
    "    def show_items(self):\n",
    "        if not self.items:\n",
    "            return \"No items in order.\"\n",
    "        return \"\\n\".join([f\"{item}: {price}\" for item, price in self.items.items()])\n",
    "\n",
    "\n",
    "order = Order()\n",
    "order.add(\"Shirt\", 500)\n",
    "order.add(\"Shoes\", 1500)\n",
    "print(order.calculate_total()) \n",
    "print(order.show_items())    \n",
    "order.remove(\"Shirt\")\n",
    "print(order.calculate_total()) \n"
   ]
  }
 ],
 "metadata": {
  "kernelspec": {
   "display_name": "Python 3",
   "language": "python",
   "name": "python3"
  },
  "language_info": {
   "codemirror_mode": {
    "name": "ipython",
    "version": 3
   },
   "file_extension": ".py",
   "mimetype": "text/x-python",
   "name": "python",
   "nbconvert_exporter": "python",
   "pygments_lexer": "ipython3",
   "version": "3.11.0"
  }
 },
 "nbformat": 4,
 "nbformat_minor": 5
}
