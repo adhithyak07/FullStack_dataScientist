{
 "cells": [
  {
   "cell_type": "code",
   "execution_count": 14,
   "id": "da16a075",
   "metadata": {},
   "outputs": [
    {
     "name": "stdout",
     "output_type": "stream",
     "text": [
      "True\n"
     ]
    }
   ],
   "source": [
    "def ispalindrome(s):\n",
    "    s=s.lower().strip()\n",
    "    i=0\n",
    "    j=len(s)-1\n",
    "    while(i<j):\n",
    "        if(s[i]==s[j]):\n",
    "            i=i+1\n",
    "            j=j-1\n",
    "        else:\n",
    "            return False\n",
    "    return True\n",
    "text=input()\n",
    "print(ispalindrome(text))"
   ]
  },
  {
   "cell_type": "code",
   "execution_count": null,
   "id": "1b3beb31",
   "metadata": {},
   "outputs": [],
   "source": []
  }
 ],
 "metadata": {
  "kernelspec": {
   "display_name": "Python 3",
   "language": "python",
   "name": "python3"
  },
  "language_info": {
   "codemirror_mode": {
    "name": "ipython",
    "version": 3
   },
   "file_extension": ".py",
   "mimetype": "text/x-python",
   "name": "python",
   "nbconvert_exporter": "python",
   "pygments_lexer": "ipython3",
   "version": "3.11.0"
  }
 },
 "nbformat": 4,
 "nbformat_minor": 5
}
