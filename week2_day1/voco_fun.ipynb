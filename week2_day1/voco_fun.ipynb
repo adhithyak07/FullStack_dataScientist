{
 "cells": [
  {
   "cell_type": "code",
   "execution_count": 1,
   "id": "266806c2",
   "metadata": {},
   "outputs": [
    {
     "name": "stdout",
     "output_type": "stream",
     "text": [
      "3 2\n"
     ]
    }
   ],
   "source": [
    "def voco(s):\n",
    "    set=('a','e','i','o','u')\n",
    "    s=s.strip().lower()\n",
    "    cons=vo=0\n",
    "    for i in s:\n",
    "        if i in set:\n",
    "            vo=vo+1\n",
    "        else:\n",
    "            cons=cons+1\n",
    "    print(cons,vo)\n",
    "s=input()\n",
    "voco(s)\n",
    "\n"
   ]
  }
 ],
 "metadata": {
  "kernelspec": {
   "display_name": "Python 3",
   "language": "python",
   "name": "python3"
  },
  "language_info": {
   "codemirror_mode": {
    "name": "ipython",
    "version": 3
   },
   "file_extension": ".py",
   "mimetype": "text/x-python",
   "name": "python",
   "nbconvert_exporter": "python",
   "pygments_lexer": "ipython3",
   "version": "3.11.0"
  }
 },
 "nbformat": 4,
 "nbformat_minor": 5
}
