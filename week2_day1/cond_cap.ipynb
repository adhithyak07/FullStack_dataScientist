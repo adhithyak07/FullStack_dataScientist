{
 "cells": [
  {
   "cell_type": "code",
   "execution_count": 2,
   "id": "13c07f2e",
   "metadata": {},
   "outputs": [
    {
     "name": "stdout",
     "output_type": "stream",
     "text": [
      "cATCHA\n",
      "prETEEN\n",
      "you've got this\n",
      "KEEP TRYING\n"
     ]
    }
   ],
   "source": [
    "def preLetterCase(s, letter):\n",
    "    index = s.lower().find(letter.lower())   \n",
    "    if index == -1: \n",
    "        return s.lower()\n",
    "    \n",
    "    return s[:index].lower() + s[index:].upper()\n",
    "\n",
    "\n",
    "\n",
    "print(preLetterCase(\"CAtCHa\",\"a\"))      \n",
    "print(preLetterCase(\"Preteen\",\"e\"))     \n",
    "print(preLetterCase(\"You've got this\",\"m\"))  \n",
    "print(preLetterCase(\"Keep trying\",\"k\")) \n"
   ]
  }
 ],
 "metadata": {
  "kernelspec": {
   "display_name": "Python 3",
   "language": "python",
   "name": "python3"
  },
  "language_info": {
   "codemirror_mode": {
    "name": "ipython",
    "version": 3
   },
   "file_extension": ".py",
   "mimetype": "text/x-python",
   "name": "python",
   "nbconvert_exporter": "python",
   "pygments_lexer": "ipython3",
   "version": "3.11.0"
  }
 },
 "nbformat": 4,
 "nbformat_minor": 5
}
