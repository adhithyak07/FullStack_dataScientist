{
 "cells": [
  {
   "cell_type": "code",
   "execution_count": null,
   "id": "4a002b85",
   "metadata": {},
   "outputs": [],
   "source": [
    "class Employee:\n",
    "    def __init__(self, name, salary):\n",
    "        self.name = name\n",
    "        self.salary = salary\n",
    "    \n",
    "    def bonus(self):\n",
    "        return 0   \n",
    "\n",
    "\n",
    "class Manager(Employee):\n",
    "    def bonus(self):\n",
    "        return self.salary * 0.20\n",
    "\n",
    "\n",
    "class Developer(Employee):\n",
    "    def bonus(self):\n",
    "        return self.salary * 0.10\n",
    "\n",
    "\n",
    "class Intern(Employee):\n",
    "    def bonus(self):\n",
    "        return self.salary * 0.05\n",
    "\n",
    "\n",
    "\n",
    "m = Manager(\"Alice\", 50000)\n",
    "print(m.bonus())   \n",
    "\n",
    "d = Developer(\"Bob\", 40000)\n",
    "print(d.bonus())  \n",
    "\n",
    "i = Intern(\"Charlie\", 20000)\n",
    "print(i.bonus())    \n"
   ]
  }
 ],
 "metadata": {
  "language_info": {
   "name": "python"
  }
 },
 "nbformat": 4,
 "nbformat_minor": 5
}
