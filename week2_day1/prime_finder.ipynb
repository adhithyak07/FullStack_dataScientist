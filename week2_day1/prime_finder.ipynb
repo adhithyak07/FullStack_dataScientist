{
 "cells": [
  {
   "cell_type": "code",
   "execution_count": 10,
   "id": "cc43a81b",
   "metadata": {},
   "outputs": [
    {
     "name": "stdout",
     "output_type": "stream",
     "text": [
      "[2, 3, 5, 7]\n"
     ]
    }
   ],
   "source": [
    "def print_prime(n):\n",
    "    list=[]\n",
    "    for i in range(1,n+1):\n",
    "       c=0\n",
    "       for x in range(1,i+1):\n",
    "       \n",
    "           if (i%x==0):\n",
    "               c=c+1\n",
    "       if c==2:\n",
    "           list.append(i)\n",
    "    print(list)\n",
    "n=int(input())\n",
    "print_prime(n)"
   ]
  }
 ],
 "metadata": {
  "kernelspec": {
   "display_name": "Python 3",
   "language": "python",
   "name": "python3"
  },
  "language_info": {
   "codemirror_mode": {
    "name": "ipython",
    "version": 3
   },
   "file_extension": ".py",
   "mimetype": "text/x-python",
   "name": "python",
   "nbconvert_exporter": "python",
   "pygments_lexer": "ipython3",
   "version": "3.11.0"
  }
 },
 "nbformat": 4,
 "nbformat_minor": 5
}
