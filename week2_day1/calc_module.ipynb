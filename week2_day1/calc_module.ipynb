{
 "cells": [
  {
   "cell_type": "code",
   "execution_count": 1,
   "id": "2b6ed228",
   "metadata": {},
   "outputs": [
    {
     "name": "stdout",
     "output_type": "stream",
     "text": [
      "Result: 1.0\n"
     ]
    }
   ],
   "source": [
    "import math\n",
    "\n",
    "def calculator(expression):\n",
    "    if expression.startswith(\"sqrt\"):\n",
    "        num = float(expression[5:-1])   \n",
    "        return math.sqrt(num)\n",
    "    elif expression.startswith(\"factorial\"):\n",
    "        num = int(expression[10:-1])\n",
    "        return math.factorial(num)\n",
    "    elif expression.startswith(\"sin\"):\n",
    "        num = float(expression[4:-1])\n",
    "        return math.sin(math.radians(num))  \n",
    "    elif expression.startswith(\"cos\"):\n",
    "        num = float(expression[4:-1])\n",
    "        return math.cos(math.radians(num))  \n",
    "    else:\n",
    "        return \"Unsupported operation\"\n",
    "\n",
    "expr = input(\"Enter operation (e.g. sqrt(25), factorial(5), sin(90), cos(0)): \")\n",
    "print(\"Result:\", calculator(expr))\n",
    "\n"
   ]
  }
 ],
 "metadata": {
  "kernelspec": {
   "display_name": "Python 3",
   "language": "python",
   "name": "python3"
  },
  "language_info": {
   "codemirror_mode": {
    "name": "ipython",
    "version": 3
   },
   "file_extension": ".py",
   "mimetype": "text/x-python",
   "name": "python",
   "nbconvert_exporter": "python",
   "pygments_lexer": "ipython3",
   "version": "3.11.0"
  }
 },
 "nbformat": 4,
 "nbformat_minor": 5
}
