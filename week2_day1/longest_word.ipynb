{
 "cells": [
  {
   "cell_type": "code",
   "execution_count": 1,
   "id": "7b43d800",
   "metadata": {},
   "outputs": [
    {
     "name": "stdout",
     "output_type": "stream",
     "text": [
      "dancer\n"
     ]
    }
   ],
   "source": [
    "def long_word(sen):\n",
    "    words=sen.split()\n",
    "    maxword=\"\"\n",
    "    for x in words:\n",
    "        if len(x)>len(maxword):\n",
    "            maxword=x\n",
    "    print(maxword)\n",
    "sen=input()\n",
    "long_word(sen)\n"
   ]
  }
 ],
 "metadata": {
  "kernelspec": {
   "display_name": "Python 3",
   "language": "python",
   "name": "python3"
  },
  "language_info": {
   "codemirror_mode": {
    "name": "ipython",
    "version": 3
   },
   "file_extension": ".py",
   "mimetype": "text/x-python",
   "name": "python",
   "nbconvert_exporter": "python",
   "pygments_lexer": "ipython3",
   "version": "3.11.0"
  }
 },
 "nbformat": 4,
 "nbformat_minor": 5
}
