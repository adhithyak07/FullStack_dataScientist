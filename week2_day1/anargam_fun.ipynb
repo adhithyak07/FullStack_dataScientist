{
 "cells": [
  {
   "cell_type": "code",
   "execution_count": 3,
   "id": "c3eed8df",
   "metadata": {},
   "outputs": [
    {
     "name": "stdout",
     "output_type": "stream",
     "text": [
      "True\n"
     ]
    }
   ],
   "source": [
    "def is_anargam(str1,str2):\n",
    "    return sorted(str1)==sorted(str2)\n",
    "str1=input()\n",
    "str2=input()\n",
    "print(is_anargam(str1,str2))"
   ]
  }
 ],
 "metadata": {
  "kernelspec": {
   "display_name": "Python 3",
   "language": "python",
   "name": "python3"
  },
  "language_info": {
   "codemirror_mode": {
    "name": "ipython",
    "version": 3
   },
   "file_extension": ".py",
   "mimetype": "text/x-python",
   "name": "python",
   "nbconvert_exporter": "python",
   "pygments_lexer": "ipython3",
   "version": "3.11.0"
  }
 },
 "nbformat": 4,
 "nbformat_minor": 5
}
