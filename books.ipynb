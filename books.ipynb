{
 "cells": [
  {
   "cell_type": "code",
   "execution_count": null,
   "id": "f9009dd3",
   "metadata": {},
   "outputs": [
    {
     "name": "stdout",
     "output_type": "stream",
     "text": [
      "\n",
      "--- Library Menu ---\n",
      "1. Display Books\n",
      "2. Add Book\n",
      "3. Remove Book\n",
      "4. Exit\n",
      "Current Books: ['Python Basics', 'Data Science', 'AI Fundamentals']\n",
      "Total Books: 3\n",
      "\n",
      "--- Library Menu ---\n",
      "1. Display Books\n",
      "2. Add Book\n",
      "3. Remove Book\n",
      "4. Exit\n",
      "\"machine learning\" added successfully!\n",
      "\n",
      "--- Library Menu ---\n",
      "1. Display Books\n",
      "2. Add Book\n",
      "3. Remove Book\n",
      "4. Exit\n",
      "\"\" added successfully!\n",
      "\n",
      "--- Library Menu ---\n",
      "1. Display Books\n",
      "2. Add Book\n",
      "3. Remove Book\n",
      "4. Exit\n"
     ]
    }
   ],
   "source": [
    "books = [\"Python Basics\", \"Data Science\", \"AI Fundamentals\"]\n",
    "\n",
    "\n",
    "while True:\n",
    "    print(\"\\n--- Library Menu ---\")\n",
    "    print(\"1. Display Books\")\n",
    "    print(\"2. Add Book\")\n",
    "    print(\"3. Remove Book\")\n",
    "    print(\"4. Exit\")\n",
    "    \n",
    "    choice = int(input(\"Enter your choice: \"))\n",
    "\n",
    "    if choice == 1:\n",
    "        print(\"Current Books:\", books)\n",
    "        print(\"Total Books:\", len(books))\n",
    "    elif choice == 2:\n",
    "        new_book = input(\"Enter book name to add: \")\n",
    "        books.append(new_book)\n",
    "        print(f'\"{new_book}\" added successfully!')\n",
    "    elif choice == 3:\n",
    "        remove_book = input(\"Enter book name to remove: \")\n",
    "        if remove_book in books:\n",
    "            books.remove(remove_book)\n",
    "            print(f'\"{remove_book}\" removed successfully!')\n",
    "        else:\n",
    "            print(\"Book not found!\")\n",
    "    elif choice == 4:\n",
    "        print(\"Exiting Library System. Goodbye!\")\n",
    "        break\n",
    "    else:\n",
    "        print(\"Invalid choice! Please try again.\")\n"
   ]
  }
 ],
 "metadata": {
  "kernelspec": {
   "display_name": "Python 3",
   "language": "python",
   "name": "python3"
  },
  "language_info": {
   "codemirror_mode": {
    "name": "ipython",
    "version": 3
   },
   "file_extension": ".py",
   "mimetype": "text/x-python",
   "name": "python",
   "nbconvert_exporter": "python",
   "pygments_lexer": "ipython3",
   "version": "3.11.0"
  }
 },
 "nbformat": 4,
 "nbformat_minor": 5
}
