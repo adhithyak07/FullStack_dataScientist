{
 "cells": [
  {
   "cell_type": "code",
   "execution_count": null,
   "id": "3259392c",
   "metadata": {},
   "outputs": [
    {
     "name": "stdout",
     "output_type": "stream",
     "text": [
      "3 15 6\n"
     ]
    }
   ],
   "source": [
    "str=input()\n",
    "x=str.split()\n",
    "words=len(x)\n",
    "char=len(str)\n",
    "set={'a','e','i','o','u','A','E','I','O','U'}\n",
    "v=0\n",
    "for i in x:\n",
    "    for j in i:\n",
    "        if j.isalpha():\n",
    "            if j in set:\n",
    "                v=v+1\n",
    "          \n",
    "print(words,char,v)"
   ]
  }
 ],
 "metadata": {
  "kernelspec": {
   "display_name": "Python 3",
   "language": "python",
   "name": "python3"
  },
  "language_info": {
   "codemirror_mode": {
    "name": "ipython",
    "version": 3
   },
   "file_extension": ".py",
   "mimetype": "text/x-python",
   "name": "python",
   "nbconvert_exporter": "python",
   "pygments_lexer": "ipython3",
   "version": "3.11.0"
  }
 },
 "nbformat": 4,
 "nbformat_minor": 5
}
