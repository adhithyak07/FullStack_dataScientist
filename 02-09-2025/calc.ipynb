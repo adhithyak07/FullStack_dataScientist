{
 "cells": [
  {
   "cell_type": "code",
   "execution_count": 2,
   "id": "295a3d12",
   "metadata": {},
   "outputs": [
    {
     "name": "stdout",
     "output_type": "stream",
     "text": [
      "addition 12\n",
      "subtraction: 8\n",
      "multiplication: 20\n",
      "division 5.0\n",
      "modulo 0\n"
     ]
    }
   ],
   "source": [
    "i=int(input(\"Enter 1st number:\"))\n",
    "j=int(input(\"Enter 2nd number:\"))\n",
    "def add(i,j):\n",
    "    return i+j\n",
    "def sub(i,j):\n",
    "    return i-j\n",
    "def mul(i,j):\n",
    "    return i*j\n",
    "def div(i,j):\n",
    "    if(j==0):\n",
    "        return \"cannot divide\"\n",
    "    return i/j\n",
    "def mod(i,j):\n",
    "    if(j==0):\n",
    "        return \"cannot divide\"\n",
    "    return i%j\n",
    "print(\"addition\",add(i,j))\n",
    "print(\"subtraction:\",sub(i,j))\n",
    "print(\"multiplication:\",mul(i,j))\n",
    "print(\"division\",div(i,j))\n",
    "print(\"modulo\",mod(i,j))\n",
    "\n"
   ]
  }
 ],
 "metadata": {
  "kernelspec": {
   "display_name": "Python 3",
   "language": "python",
   "name": "python3"
  },
  "language_info": {
   "codemirror_mode": {
    "name": "ipython",
    "version": 3
   },
   "file_extension": ".py",
   "mimetype": "text/x-python",
   "name": "python",
   "nbconvert_exporter": "python",
   "pygments_lexer": "ipython3",
   "version": "3.11.0"
  }
 },
 "nbformat": 4,
 "nbformat_minor": 5
}
