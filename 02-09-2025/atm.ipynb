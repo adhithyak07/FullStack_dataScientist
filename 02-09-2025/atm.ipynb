{
 "cells": [
  {
   "cell_type": "code",
   "execution_count": 1,
   "id": "65436552",
   "metadata": {},
   "outputs": [
    {
     "name": "stdout",
     "output_type": "stream",
     "text": [
      "PIN Verified.\n",
      "Withdrawal Successful. Remaining Balance = 2000\n"
     ]
    }
   ],
   "source": [
    "pin = 1234  \n",
    "\n",
    "user_pin = int(input(\"Enter PIN: \"))  \n",
    "balance = int(input(\"Enter Balance: \"))  \n",
    "withdraw = int(input(\"Enter Withdrawal Amount: \"))  \n",
    "\n",
    "if user_pin != pin:\n",
    "    print(\"Invalid PIN.\")\n",
    "else:\n",
    "    print(\"PIN Verified.\")\n",
    "    if withdraw <= balance:\n",
    "        balance -= withdraw\n",
    "        print(f\"Withdrawal Successful. Remaining Balance = {balance}\")\n",
    "    else:\n",
    "        print(\"Insufficient Balance.\")\n"
   ]
  }
 ],
 "metadata": {
  "kernelspec": {
   "display_name": "Python 3",
   "language": "python",
   "name": "python3"
  },
  "language_info": {
   "codemirror_mode": {
    "name": "ipython",
    "version": 3
   },
   "file_extension": ".py",
   "mimetype": "text/x-python",
   "name": "python",
   "nbconvert_exporter": "python",
   "pygments_lexer": "ipython3",
   "version": "3.11.0"
  }
 },
 "nbformat": 4,
 "nbformat_minor": 5
}
