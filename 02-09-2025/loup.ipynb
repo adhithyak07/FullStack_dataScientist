{
 "cells": [
  {
   "cell_type": "code",
   "execution_count": 2,
   "metadata": {},
   "outputs": [
    {
     "name": "stdout",
     "output_type": "stream",
     "text": [
      "lower 4\n",
      "upper 4\n"
     ]
    }
   ],
   "source": [
    "l=u=0\n",
    "s=\"AdHitHyA\"\n",
    "for i in s:\n",
    "    if i.islower():\n",
    "        l=l+1\n",
    "    else:\n",
    "        u=u+1\n",
    "print(\"lower\",l)\n",
    "print(\"upper\",u)"
   ]
  }
 ],
 "metadata": {
  "kernelspec": {
   "display_name": "Python 3",
   "language": "python",
   "name": "python3"
  },
  "language_info": {
   "codemirror_mode": {
    "name": "ipython",
    "version": 3
   },
   "file_extension": ".py",
   "mimetype": "text/x-python",
   "name": "python",
   "nbconvert_exporter": "python",
   "pygments_lexer": "ipython3",
   "version": "3.11.0"
  }
 },
 "nbformat": 4,
 "nbformat_minor": 2
}
