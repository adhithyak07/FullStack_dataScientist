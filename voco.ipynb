{
 "cells": [
  {
   "cell_type": "code",
   "execution_count": 2,
   "id": "110e766d",
   "metadata": {},
   "outputs": [
    {
     "name": "stdout",
     "output_type": "stream",
     "text": [
      "10 6\n"
     ]
    }
   ],
   "source": [
    "set={'a','e','i','o','u','A','E','I','O','U'}\n",
    "c=0\n",
    "v=0\n",
    "sentence=\"My name is Adhithya\"\n",
    "for s in sentence:\n",
    "    if(s.isalpha()):\n",
    "        if s in set:\n",
    "            v=v+1\n",
    "        else:\n",
    "            c=c+1\n",
    "print(c,v)\n"
   ]
  }
 ],
 "metadata": {
  "kernelspec": {
   "display_name": "Python 3",
   "language": "python",
   "name": "python3"
  },
  "language_info": {
   "codemirror_mode": {
    "name": "ipython",
    "version": 3
   },
   "file_extension": ".py",
   "mimetype": "text/x-python",
   "name": "python",
   "nbconvert_exporter": "python",
   "pygments_lexer": "ipython3",
   "version": "3.11.0"
  }
 },
 "nbformat": 4,
 "nbformat_minor": 5
}
